{
  "nbformat": 4,
  "nbformat_minor": 0,
  "metadata": {
    "colab": {
      "provenance": [],
      "authorship_tag": "ABX9TyPtYHcSNAszO+tEdEPJNruI",
      "include_colab_link": true
    },
    "kernelspec": {
      "name": "python3",
      "display_name": "Python 3"
    },
    "language_info": {
      "name": "python"
    }
  },
  "cells": [
    {
      "cell_type": "markdown",
      "metadata": {
        "id": "view-in-github",
        "colab_type": "text"
      },
      "source": [
        "<a href=\"https://colab.research.google.com/github/joaochenriques/GeneratorCalib/blob/main/GenFilterPaper_PP.ipynb\" target=\"_parent\"><img src=\"https://colab.research.google.com/assets/colab-badge.svg\" alt=\"Open In Colab\"/></a>"
      ]
    },
    {
      "cell_type": "code",
      "execution_count": 1,
      "metadata": {
        "colab": {
          "base_uri": "https://localhost:8080/"
        },
        "id": "WGEKaZcX3Iv7",
        "outputId": "9658d275-1f80-4627-ea63-755c0094b9a3"
      },
      "outputs": [
        {
          "output_type": "execute_result",
          "data": {
            "text/plain": [
              "('T01', '1ntRq9wLbatJs7RiALXIoL55ou_dHjGpm')"
            ]
          },
          "metadata": {},
          "execution_count": 1
        }
      ],
      "source": [
        "CASES = {\n",
        "    0: ( 'T00', '17VPMsByFk7y7hvfCulCVsXU9NFCYm80m' ),\n",
        "    1: ( 'T01', '1ntRq9wLbatJs7RiALXIoL55ou_dHjGpm' ),\n",
        "}\n",
        "\n",
        "CASE = CASES[1]\n",
        "CASE"
      ]
    },
    {
      "cell_type": "code",
      "source": [
        "from google.colab import drive\n",
        "drive.mount('/content/drive')"
      ],
      "metadata": {
        "colab": {
          "base_uri": "https://localhost:8080/"
        },
        "id": "9fhBwvr64OU5",
        "outputId": "28d374f5-3db7-478e-a806-2abb63353f27"
      },
      "execution_count": 2,
      "outputs": [
        {
          "output_type": "stream",
          "name": "stdout",
          "text": [
            "Drive already mounted at /content/drive; to attempt to forcibly remount, call drive.mount(\"/content/drive\", force_remount=True).\n"
          ]
        }
      ]
    },
    {
      "cell_type": "code",
      "source": [
        "import matplotlib.pyplot as mpl\n",
        "import numpy as np\n",
        "import scipy.io as sio\n",
        "import h5py"
      ],
      "metadata": {
        "id": "MF1Lw79G4ghJ"
      },
      "execution_count": null,
      "outputs": []
    },
    {
      "cell_type": "code",
      "source": [
        "!pip install dataclassy \n",
        "from dataclassy import dataclass"
      ],
      "metadata": {
        "colab": {
          "base_uri": "https://localhost:8080/"
        },
        "id": "ldjWhFJr4no6",
        "outputId": "10391a62-7aa9-461f-f1c8-014cbb3d85d5"
      },
      "execution_count": 4,
      "outputs": [
        {
          "output_type": "stream",
          "name": "stdout",
          "text": [
            "Looking in indexes: https://pypi.org/simple, https://us-python.pkg.dev/colab-wheels/public/simple/\n",
            "Requirement already satisfied: dataclassy in /usr/local/lib/python3.7/dist-packages (0.11.1)\n"
          ]
        }
      ]
    },
    {
      "cell_type": "code",
      "source": [
        "# If running python on Windows operating system, copy the file:\n",
        "# https://raw.githubusercontent.com/joaochenriques/ipynb_libs/main/mpl_utils.py\n",
        "# to the working folder before running the notebook\n",
        "\n",
        "import pathlib\n",
        "if not pathlib.Path(\"mpl_utils.py\").exists():\n",
        "  !curl -O https://raw.githubusercontent.com/joaochenriques/ipynb_libs/main/mpl_utils.py \n",
        "\n",
        "import mpl_utils as mut\n",
        "mut.config_plots()\n",
        "\n",
        "%config InlineBackend.figure_formats = ['svg']\n",
        "mpl.rcParams[\"figure.figsize\"] = (6,4.5)"
      ],
      "metadata": {
        "id": "DCWVuE9b4q8I"
      },
      "execution_count": 5,
      "outputs": []
    },
    {
      "cell_type": "code",
      "source": [
        "!pip install gdown &> /dev/null\n",
        "import gdown"
      ],
      "metadata": {
        "id": "jN3jPRwM83j8"
      },
      "execution_count": 6,
      "outputs": []
    },
    {
      "cell_type": "code",
      "source": [
        "def filters_sym_6th( pnts_seq ):\n",
        "\n",
        "  b_lst = []\n",
        "  for Npts in pnts_seq:\n",
        "    b = np.zeros( Npts )\n",
        "\n",
        "    float_Npts = float( Npts )\n",
        "    hpts = Npts / 2\n",
        "\n",
        "    if Npts % 2 == 0:\n",
        "      print( ' Number of points should be an odd ', Npts )\n",
        "      exit(1)\n",
        "\n",
        "    CONST6_0 = (   1225.E0*float_Npts**6 -  57575.E0*float_Npts**4 +  \\\n",
        "                 605395.E0*float_Npts**2 - 952245.E0 ) / 64.E0\n",
        "    CONST6_2 = ( -11025.E0*float_Npts**4 + 330750.E0*float_Npts**2\n",
        "               -1507485.E0 ) / 16.E0\n",
        "    CONST6_4 = (  24255.E0*float_Npts**2 - 347655.E0 ) / 4.E0\n",
        "    CONST6_6 = -15015.E0\n",
        "    Denomi_6 =  4.E0 * float_Npts * ( float_Npts**6 - 56.E0*float_Npts**4\n",
        "            + 784.E0*float_Npts**2 - 2304.E0 )\n",
        "\n",
        "    mid_Coef = np.array( [ CONST6_0 / Denomi_6 ] )\n",
        "    pl = np.array( [CONST6_6, 0.0, CONST6_4, 0.0, CONST6_2, 0.0, CONST6_0] )\n",
        "\n",
        "    float_I = np.arange( 1.0, hpts + 0.1, 1.0 )\n",
        "\n",
        "    Coefs = np.polyval( pl, float_I ) / Denomi_6\n",
        "\n",
        "    lst = np.concatenate( ( Coefs[::-1], mid_Coef, Coefs ) )\n",
        "    b_lst.append( lst )\n",
        "    \n",
        "  return b_lst"
      ],
      "metadata": {
        "id": "ZFDseU4B6Z_D"
      },
      "execution_count": 7,
      "outputs": []
    },
    {
      "cell_type": "code",
      "source": [
        "def filter_multiply( filter, signal ):\n",
        "\n",
        "  half_window = int( filter.size / 2 )\n",
        "\n",
        "  if filter.size % 2 == 0:\n",
        "    raise \"ERROR@filter_multiply: filter size is even.\"\n",
        "\n",
        "  out_signal = np.zeros( signal.size - 2*half_window )\n",
        "\n",
        "\n",
        "  ej = filter.size;\n",
        "  hw = int( ej / 2 )\n",
        "  ei = int( signal.size - 2*hw )\n",
        "\n",
        "  for i in range( 0, ei ):\n",
        "      out_signal[i] = np.dot( signal[i:i+ej], filter )\n",
        "\n",
        "  return out_signal"
      ],
      "metadata": {
        "id": "pG9KtZvu8WFe"
      },
      "execution_count": 8,
      "outputs": []
    },
    {
      "cell_type": "code",
      "source": [
        "def sym_filters_czo_ends( b_lst, y ):\n",
        "  # continuous zero orders ends\n",
        "  window = 4*len( b_lst[0] )\n",
        "\n",
        "  half_window = 0\n",
        "  for b in b_lst:\n",
        "    half_window += int( len(b) / 2 )\n",
        "\n",
        "  firstvals = np.ones( half_window ) * np.average( y[ :window] )\n",
        "  lastvals  = np.ones( half_window ) * np.average( y[-window:] )\n",
        "  y = np.concatenate( ( firstvals, y, lastvals ) )\n",
        "\n",
        "  for b in b_lst:\n",
        "    y = filter_multiply( b, y )\n",
        "\n",
        "  return y"
      ],
      "metadata": {
        "id": "5pdZQm6z8MYE"
      },
      "execution_count": 9,
      "outputs": []
    },
    {
      "cell_type": "code",
      "source": [
        "def LS_fitting( time, signal, degree ):\n",
        "  return np.poly1d( np.polyfit( time, signal, degree ) )"
      ],
      "metadata": {
        "id": "jccra6WB8wCY"
      },
      "execution_count": 10,
      "outputs": []
    },
    {
      "cell_type": "code",
      "source": [
        "def sym_filters_cls_ends( b_lst, y, ends_degree = 6, mult = 1 ):\n",
        "  # continuous least-square ends\n",
        "  for b in b_lst:\n",
        "    window      = mult*len(b)\n",
        "    half_window = int( len(b) / 2 )\n",
        "\n",
        "    time        = np.arange( 0, window+0.5, 1.0 )\n",
        "\n",
        "    left_time   = time[ :half_window ]\n",
        "    left_y      = y[ : window + 1 ]\n",
        "    poly_left   = LS_fitting( time, left_y,  ends_degree )\n",
        "    left_vals   = poly_left ( left_time )\n",
        "\n",
        "    right_time  = time[ -half_window: ]\n",
        "    right_y     = y[ -window-1: ]\n",
        "    poly_right  = LS_fitting( time, right_y, ends_degree )\n",
        "    right_vals  = poly_right( right_time )\n",
        "\n",
        "    y = filter_multiply( b, y )\n",
        "    y = np.concatenate( ( left_vals, y, right_vals ) )\n",
        "\n",
        "  return y"
      ],
      "metadata": {
        "id": "fVv-5OX18PQP"
      },
      "execution_count": 11,
      "outputs": []
    },
    {
      "cell_type": "code",
      "source": [
        "def filter_var( HF_seq, LF_seq, time, signal ):\n",
        "\n",
        "  initial_pnts = int( 62500*5+1 )\n",
        "  discard_pnts = int( 62500*2.4 )\n",
        "\n",
        "  time   = time[ -initial_pnts-1: -1 ]\n",
        "  signal = signal[ -initial_pnts-1: -1 ]\n",
        "\n",
        "  HF_filter = filters_sym_6th( HF_seq )\n",
        "  LF_filter = filters_sym_6th( LF_seq )\n",
        "\n",
        "  HF_signal  = sym_filters_cls_ends( HF_filter, signal, 6, 1 )\n",
        "  LF_signal  = sym_filters_czo_ends( LF_filter, signal )\n",
        "  BP_signal  = HF_signal.copy()\n",
        "  BP_signal -= LF_signal\n",
        "\n",
        "  return time[discard_pnts-1:-discard_pnts], \\\n",
        "         BP_signal[discard_pnts-1:-discard_pnts], \\\n",
        "         signal[discard_pnts-1:-discard_pnts]"
      ],
      "metadata": {
        "id": "WZ84A5kZ9EzL"
      },
      "execution_count": 12,
      "outputs": []
    },
    {
      "cell_type": "code",
      "source": [
        "TEST_CASE_NAME = CASE[0]\n",
        "tests_filename = CASE[0]\n",
        "gdown_filename = CASE[1]\n",
        "\n",
        "dat_filename = TEST_CASE_NAME + '.mat'\n",
        "dat_filename"
      ],
      "metadata": {
        "colab": {
          "base_uri": "https://localhost:8080/",
          "height": 35
        },
        "id": "OpVj2mtu4_FG",
        "outputId": "8394fb0b-abe5-42e2-a05b-c7a4e1937531"
      },
      "execution_count": 16,
      "outputs": [
        {
          "output_type": "execute_result",
          "data": {
            "text/plain": [
              "'T01.mat'"
            ],
            "application/vnd.google.colaboratory.intrinsic+json": {
              "type": "string"
            }
          },
          "metadata": {},
          "execution_count": 16
        }
      ]
    },
    {
      "cell_type": "code",
      "source": [
        "if not pathlib.Path( dat_filename ).exists():\n",
        "    gdown.download( id=gdown_filename, output=dat_filename, quiet=False )"
      ],
      "metadata": {
        "colab": {
          "base_uri": "https://localhost:8080/"
        },
        "id": "NWEI2AR-4zLg",
        "outputId": "56370cee-159d-4489-90b9-58caf0778cc5"
      },
      "execution_count": 14,
      "outputs": [
        {
          "output_type": "stream",
          "name": "stderr",
          "text": [
            "Downloading...\n",
            "From: https://drive.google.com/uc?id=1ntRq9wLbatJs7RiALXIoL55ou_dHjGpm\n",
            "To: /content/T01.mat\n",
            "100%|██████████| 2.11G/2.11G [00:46<00:00, 45.7MB/s]\n"
          ]
        }
      ]
    },
    {
      "cell_type": "code",
      "source": [
        "hf = h5py.File( dat_filename, 'r' )"
      ],
      "metadata": {
        "id": "i3zmuKMCGkJj"
      },
      "execution_count": null,
      "outputs": []
    },
    {
      "cell_type": "code",
      "source": [
        "mat_contents = sio.loadmat( mat_filename, squeeze_me = True, struct_as_record = False )\n",
        "mat_contents['TData']._fieldnames"
      ],
      "metadata": {
        "colab": {
          "base_uri": "https://localhost:8080/",
          "height": 329
        },
        "id": "On_pdFnW5Gcq",
        "outputId": "2978f4f1-427d-4fcd-e705-7702c13902df"
      },
      "execution_count": 15,
      "outputs": [
        {
          "output_type": "error",
          "ename": "NotImplementedError",
          "evalue": "ignored",
          "traceback": [
            "\u001b[0;31m---------------------------------------------------------------------------\u001b[0m",
            "\u001b[0;31mNotImplementedError\u001b[0m                       Traceback (most recent call last)",
            "\u001b[0;32m<ipython-input-15-e978e4997971>\u001b[0m in \u001b[0;36m<module>\u001b[0;34m\u001b[0m\n\u001b[0;32m----> 1\u001b[0;31m \u001b[0mmat_contents\u001b[0m \u001b[0;34m=\u001b[0m \u001b[0msio\u001b[0m\u001b[0;34m.\u001b[0m\u001b[0mloadmat\u001b[0m\u001b[0;34m(\u001b[0m \u001b[0mmat_filename\u001b[0m\u001b[0;34m,\u001b[0m \u001b[0msqueeze_me\u001b[0m \u001b[0;34m=\u001b[0m \u001b[0;32mTrue\u001b[0m\u001b[0;34m,\u001b[0m \u001b[0mstruct_as_record\u001b[0m \u001b[0;34m=\u001b[0m \u001b[0;32mFalse\u001b[0m \u001b[0;34m)\u001b[0m\u001b[0;34m\u001b[0m\u001b[0;34m\u001b[0m\u001b[0m\n\u001b[0m\u001b[1;32m      2\u001b[0m \u001b[0mmat_contents\u001b[0m\u001b[0;34m[\u001b[0m\u001b[0;34m'TData'\u001b[0m\u001b[0;34m]\u001b[0m\u001b[0;34m.\u001b[0m\u001b[0m_fieldnames\u001b[0m\u001b[0;34m\u001b[0m\u001b[0;34m\u001b[0m\u001b[0m\n",
            "\u001b[0;32m/usr/local/lib/python3.7/dist-packages/scipy/io/matlab/mio.py\u001b[0m in \u001b[0;36mloadmat\u001b[0;34m(file_name, mdict, appendmat, **kwargs)\u001b[0m\n\u001b[1;32m    223\u001b[0m     \u001b[0mvariable_names\u001b[0m \u001b[0;34m=\u001b[0m \u001b[0mkwargs\u001b[0m\u001b[0;34m.\u001b[0m\u001b[0mpop\u001b[0m\u001b[0;34m(\u001b[0m\u001b[0;34m'variable_names'\u001b[0m\u001b[0;34m,\u001b[0m \u001b[0;32mNone\u001b[0m\u001b[0;34m)\u001b[0m\u001b[0;34m\u001b[0m\u001b[0;34m\u001b[0m\u001b[0m\n\u001b[1;32m    224\u001b[0m     \u001b[0;32mwith\u001b[0m \u001b[0m_open_file_context\u001b[0m\u001b[0;34m(\u001b[0m\u001b[0mfile_name\u001b[0m\u001b[0;34m,\u001b[0m \u001b[0mappendmat\u001b[0m\u001b[0;34m)\u001b[0m \u001b[0;32mas\u001b[0m \u001b[0mf\u001b[0m\u001b[0;34m:\u001b[0m\u001b[0;34m\u001b[0m\u001b[0;34m\u001b[0m\u001b[0m\n\u001b[0;32m--> 225\u001b[0;31m         \u001b[0mMR\u001b[0m\u001b[0;34m,\u001b[0m \u001b[0m_\u001b[0m \u001b[0;34m=\u001b[0m \u001b[0mmat_reader_factory\u001b[0m\u001b[0;34m(\u001b[0m\u001b[0mf\u001b[0m\u001b[0;34m,\u001b[0m \u001b[0;34m**\u001b[0m\u001b[0mkwargs\u001b[0m\u001b[0;34m)\u001b[0m\u001b[0;34m\u001b[0m\u001b[0;34m\u001b[0m\u001b[0m\n\u001b[0m\u001b[1;32m    226\u001b[0m         \u001b[0mmatfile_dict\u001b[0m \u001b[0;34m=\u001b[0m \u001b[0mMR\u001b[0m\u001b[0;34m.\u001b[0m\u001b[0mget_variables\u001b[0m\u001b[0;34m(\u001b[0m\u001b[0mvariable_names\u001b[0m\u001b[0;34m)\u001b[0m\u001b[0;34m\u001b[0m\u001b[0;34m\u001b[0m\u001b[0m\n\u001b[1;32m    227\u001b[0m \u001b[0;34m\u001b[0m\u001b[0m\n",
            "\u001b[0;32m/usr/local/lib/python3.7/dist-packages/scipy/io/matlab/mio.py\u001b[0m in \u001b[0;36mmat_reader_factory\u001b[0;34m(file_name, appendmat, **kwargs)\u001b[0m\n\u001b[1;32m     78\u001b[0m         \u001b[0;32mreturn\u001b[0m \u001b[0mMatFile5Reader\u001b[0m\u001b[0;34m(\u001b[0m\u001b[0mbyte_stream\u001b[0m\u001b[0;34m,\u001b[0m \u001b[0;34m**\u001b[0m\u001b[0mkwargs\u001b[0m\u001b[0;34m)\u001b[0m\u001b[0;34m,\u001b[0m \u001b[0mfile_opened\u001b[0m\u001b[0;34m\u001b[0m\u001b[0;34m\u001b[0m\u001b[0m\n\u001b[1;32m     79\u001b[0m     \u001b[0;32melif\u001b[0m \u001b[0mmjv\u001b[0m \u001b[0;34m==\u001b[0m \u001b[0;36m2\u001b[0m\u001b[0;34m:\u001b[0m\u001b[0;34m\u001b[0m\u001b[0;34m\u001b[0m\u001b[0m\n\u001b[0;32m---> 80\u001b[0;31m         \u001b[0;32mraise\u001b[0m \u001b[0mNotImplementedError\u001b[0m\u001b[0;34m(\u001b[0m\u001b[0;34m'Please use HDF reader for matlab v7.3 files'\u001b[0m\u001b[0;34m)\u001b[0m\u001b[0;34m\u001b[0m\u001b[0;34m\u001b[0m\u001b[0m\n\u001b[0m\u001b[1;32m     81\u001b[0m     \u001b[0;32melse\u001b[0m\u001b[0;34m:\u001b[0m\u001b[0;34m\u001b[0m\u001b[0;34m\u001b[0m\u001b[0m\n\u001b[1;32m     82\u001b[0m         \u001b[0;32mraise\u001b[0m \u001b[0mTypeError\u001b[0m\u001b[0;34m(\u001b[0m\u001b[0;34m'Did not recognize version %s'\u001b[0m \u001b[0;34m%\u001b[0m \u001b[0mmjv\u001b[0m\u001b[0;34m)\u001b[0m\u001b[0;34m\u001b[0m\u001b[0;34m\u001b[0m\u001b[0m\n",
            "\u001b[0;31mNotImplementedError\u001b[0m: Please use HDF reader for matlab v7.3 files"
          ]
        }
      ]
    },
    {
      "cell_type": "code",
      "source": [
        "Time = mat_contents['TData'].Time"
      ],
      "metadata": {
        "id": "A4qzxZGwBBwi"
      },
      "execution_count": null,
      "outputs": []
    },
    {
      "cell_type": "code",
      "source": [
        "u_HF_seq = np.array( [1063, 1015,  967,  919,  871,  811] )\n",
        "u_LF_seq = np.array( [17419, 16603, 15787, 14971, 14155, 13315] )"
      ],
      "metadata": {
        "id": "1NpE26KI_4VA"
      },
      "execution_count": null,
      "outputs": []
    },
    {
      "cell_type": "code",
      "source": [
        "def FilterSignal( coeffs, time, unf_signal ):\n",
        "\n",
        "  NS = unf_signal.shape[0]\n",
        "  NC = coeffs.shape[0]\n",
        "\n",
        "  assert( NC % 2 > 0 ) # assert that is a centred filter (odd)\n",
        "\n",
        "  flt_signal = np.convolve( unf_signal, coeffs, 'valid')\n",
        "  hNC = int( NC / 2 )\n",
        "  flt_time = time[ hNC: NS-hNC ]\n",
        "\n",
        "  assert( flt_time.shape[0] == flt_signal.shape[0] )\n",
        "\n",
        "  return flt_time, flt_signal"
      ],
      "metadata": {
        "id": "xamWK06DCjou"
      },
      "execution_count": null,
      "outputs": []
    },
    {
      "cell_type": "markdown",
      "source": [
        "## filtering u1u2outGen"
      ],
      "metadata": {
        "id": "Zz1BEnTaBI5x"
      }
    },
    {
      "cell_type": "code",
      "source": [
        "u1u2out = mat_contents['TData'].u1u2out\n",
        "LP_coeffs = filters_sym_6th( u_HF_seq )\n",
        "flt_time, flt_u1u2out = FilterSignal( LP_coeffs[0], Time, u1u2out )\n",
        "\n",
        "mpl.plot( Time, u1u2out, '-y' )\n",
        "mpl.plot( flt_time, flt_u1u2out, '-b', lw=1.5 )\n",
        "\n",
        "mpl.xlim( 0, 0.01 )\n",
        "mpl.ylim( -7, 7 )"
      ],
      "metadata": {
        "id": "MYoZXGrlCxeT"
      },
      "execution_count": null,
      "outputs": []
    },
    {
      "cell_type": "code",
      "source": [
        "( time, u1u2outGen, u1u2outGenOrg ) = \\\n",
        "      filter_var( u_HF_seq, u_LF_seq, glb_time, mat_contents['TData'].u1u2out )\n",
        "u1u2outGen *= 80.0\n",
        "u1u2outGenOrg *= 80.0\n",
        "\n",
        "mpl.plot( time, u1u2outGenOrg, '-y' )\n",
        "mpl.plot( time, u1u2outGen, '-b', lw=1.5 )\n",
        "mpl.xlabel( 'time' )\n",
        "mpl.ylabel( 'u1u2outGen' )"
      ],
      "metadata": {
        "id": "HXdNl48T5OtM"
      },
      "execution_count": null,
      "outputs": []
    },
    {
      "cell_type": "code",
      "source": [],
      "metadata": {
        "id": "wBA9T7MeBPR5"
      },
      "execution_count": null,
      "outputs": []
    }
  ]
}